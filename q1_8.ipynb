{
 "cells": [
  {
   "cell_type": "markdown",
   "metadata": {},
   "source": [
    "# Pentathlon-III: Next Product to Buy Models"
   ]
  },
  {
   "cell_type": "code",
   "execution_count": 1,
   "metadata": {},
   "outputs": [],
   "source": [
    "import matplotlib as mpl\n",
    "import matplotlib.pyplot as plt\n",
    "import numpy as np\n",
    "import pandas as pd\n",
    "import pyrsm as rsm\n",
    "import statsmodels.formula.api as smf\n",
    "from sklearn import metrics, preprocessing\n",
    "from sklearn.inspection import permutation_importance\n",
    "from statsmodels.genmod.families import Binomial\n",
    "from statsmodels.genmod.families.links import logit\n",
    "from sklearn.model_selection import GridSearchCV, cross_val_score, train_test_split\n",
    "from sklearn.preprocessing import StandardScaler\n",
    "from statsmodels.genmod.families import Binomial\n",
    "from statsmodels.genmod.families.links import logit\n",
    "\n",
    "import warnings\n",
    "warnings.filterwarnings(\"ignore\")\n",
    "# increase plot resolution\n",
    "# mpl.rcParams[\"figure.dpi\"] = 150"
   ]
  },
  {
   "cell_type": "code",
   "execution_count": 2,
   "metadata": {},
   "outputs": [],
   "source": [
    "## loading the data - this dataset must NOT be changed\n",
    "pentathlon_nptb = pd.read_pickle(\"data/pentathlon_nptb.pkl\")\n",
    "pentathlon_nptb[\"buyer_yes\"] = (pentathlon_nptb[\"buyer\"] == \"yes\").astype(int)\n",
    "# pentathlon_nptb.head()"
   ]
  },
  {
   "cell_type": "code",
   "execution_count": 3,
   "metadata": {},
   "outputs": [],
   "source": [
    "pent = pentathlon_nptb"
   ]
  },
  {
   "cell_type": "code",
   "execution_count": 7,
   "metadata": {},
   "outputs": [],
   "source": [
    "## Question answers"
   ]
  },
  {
   "cell_type": "code",
   "execution_count": 8,
   "metadata": {},
   "outputs": [],
   "source": [
    "# pentathlon_nptb['gender'].get_dummies()\n",
    "pent[\"gender\"] = pd.get_dummies(pent[\"gender\"])\n",
    "pent[\n",
    "    [\"under_thirty\", \"thirty_to_fortyfour\", \"fortyfive_to_fiftynine\", \"sixty_and_above\"]\n",
    "] = pd.get_dummies(pent[\"age\"])"
   ]
  },
  {
   "cell_type": "code",
   "execution_count": 9,
   "metadata": {},
   "outputs": [],
   "source": [
    "rvar = \"buyer_yes\"\n",
    "std_var = [\n",
    "    \"education\",\n",
    "    \"children\",\n",
    "    \"income\",\n",
    "    \"freq_endurance\",\n",
    "    \"freq_strength\",\n",
    "    \"freq_water\",\n",
    "    \"freq_team\",\n",
    "    \"freq_backcountry\",\n",
    "    \"freq_winter\",\n",
    "    \"freq_racquet\",\n",
    "]\n",
    "idvar = \"custid\"\n",
    "lev = 1"
   ]
  },
  {
   "cell_type": "code",
   "execution_count": 10,
   "metadata": {},
   "outputs": [],
   "source": [
    "pd.set_option(\"display.max_columns\", None)\n",
    "\n",
    "# standardization-- when standardizing, do we look at training == 1 or do we look at representative == 1?\n",
    "X_colnames = pent.loc[\n",
    "    [0],\n",
    "    [\n",
    "        \"education\",\n",
    "        \"children\",\n",
    "        \"income\",\n",
    "        \"freq_endurance\",\n",
    "        \"freq_strength\",\n",
    "        \"freq_water\",\n",
    "        \"freq_team\",\n",
    "        \"freq_backcountry\",\n",
    "        \"freq_winter\",\n",
    "        \"freq_racquet\",\n",
    "    ],\n",
    "].columns\n",
    "scaler = preprocessing.StandardScaler()\n",
    "sf = scaler.fit(pent.query(\"training == 1\")[X_colnames])\n",
    "pent_std = pent.copy()\n",
    "\n",
    "# new standardized cols\n",
    "pent_std[std_var] = sf.transform(pent[X_colnames])"
   ]
  },
  {
   "cell_type": "code",
   "execution_count": 11,
   "metadata": {},
   "outputs": [],
   "source": [
    "# storing results for evaluation of different models\n",
    "train = pent.loc[pent[\"training\"] == 1]\n",
    "test = pent.loc[pent[\"training\"] == 0]\n",
    "\n",
    "eval_dat = pd.concat([train, test], axis=0)\n",
    "eval_dat = eval_dat[[idvar, rvar, \"training\"]]"
   ]
  },
  {
   "cell_type": "markdown",
   "metadata": {},
   "source": [
    "# Logistic Regression"
   ]
  },
  {
   "cell_type": "markdown",
   "metadata": {},
   "source": [
    "The following blocks can be un-commented to try to fine tune the model, and to check."
   ]
  },
  {
   "cell_type": "code",
   "execution_count": 12,
   "metadata": {
    "jupyter": {
     "source_hidden": true
    }
   },
   "outputs": [],
   "source": [
    "# #buyer vs. age\n",
    "# ct = rsm.cross_tabs(\n",
    "#     pent_std.query(\"representative == 1\"), \"buyer\", \"age\"\n",
    "# )  # there is association b/w age and buying\n",
    "# ct.summary(output=\"perc_col\")"
   ]
  },
  {
   "cell_type": "code",
   "execution_count": 13,
   "metadata": {
    "jupyter": {
     "source_hidden": true
    }
   },
   "outputs": [],
   "source": [
    "# #buyer vs. gender\n",
    "# ct = rsm.cross_tabs(\n",
    "#     pent_std.query(\"representative == 1\"), \"buyer\", \"gender\"\n",
    "# )  # significant\n",
    "# ct.summary(output=\"perc_col\")"
   ]
  },
  {
   "cell_type": "code",
   "execution_count": 14,
   "metadata": {
    "jupyter": {
     "source_hidden": true
    }
   },
   "outputs": [],
   "source": [
    "# # buyer vs. message\n",
    "# ct = rsm.cross_tabs(\n",
    "#     pent_std.query(\"representative == 1\"), \"buyer\", \"message\"\n",
    "# )  # no significance\n",
    "# ct.summary(output=\"perc_col\")"
   ]
  },
  {
   "cell_type": "code",
   "execution_count": 15,
   "metadata": {
    "jupyter": {
     "source_hidden": true
    }
   },
   "outputs": [],
   "source": [
    "# reg = smf.ols(\n",
    "#     formula=\"total_os ~ buyer_yes\", data=pent_std.query(\"representative == 1\")\n",
    "# ).fit()\n",
    "# rsm.coef_ci(reg)"
   ]
  },
  {
   "cell_type": "code",
   "execution_count": 16,
   "metadata": {
    "jupyter": {
     "source_hidden": true
    }
   },
   "outputs": [],
   "source": [
    "# reg = smf.ols(\n",
    "#     formula=\"income ~ buyer_yes\", data=pent_std.query(\"representative == 1\")\n",
    "# ).fit()\n",
    "# rsm.coef_ci(reg)"
   ]
  },
  {
   "cell_type": "code",
   "execution_count": 17,
   "metadata": {
    "jupyter": {
     "source_hidden": true
    }
   },
   "outputs": [],
   "source": [
    "# reg = smf.ols(\n",
    "#     formula=\"education ~ buyer_yes\", data=pent_std.query(\"representative == 1\")\n",
    "# ).fit()\n",
    "# rsm.coef_ci(reg)"
   ]
  },
  {
   "cell_type": "code",
   "execution_count": 18,
   "metadata": {
    "jupyter": {
     "source_hidden": true
    }
   },
   "outputs": [],
   "source": [
    "# reg = smf.ols(\n",
    "#     formula=\"children ~ buyer_yes\", data=pent_std.query(\"representative == 1\")\n",
    "# ).fit()\n",
    "# rsm.coef_ci(reg)"
   ]
  },
  {
   "cell_type": "code",
   "execution_count": 19,
   "metadata": {
    "jupyter": {
     "source_hidden": true
    }
   },
   "outputs": [],
   "source": [
    "# rsm.correlation(\n",
    "#     pent_std.query(\"representative == 1\")[\n",
    "#         [\"total_os\", \"income\", \"education\", \"children\"]\n",
    "#     ]\n",
    "# ).summary()"
   ]
  },
  {
   "cell_type": "code",
   "execution_count": 20,
   "metadata": {},
   "outputs": [],
   "source": [
    "# adding cweights\n",
    "pent_std[\"cweight\"] = rsm.ifelse(pent_std.buyer == \"yes\", 1, 99)"
   ]
  },
  {
   "cell_type": "code",
   "execution_count": 21,
   "metadata": {},
   "outputs": [],
   "source": [
    "# base regression model-- that does not have interactions and is not flexible to allow for customizations\n",
    "lr = smf.glm(\n",
    "    formula=\"buyer_yes ~ message + income + education + children + gender + under_thirty + thirty_to_fortyfour + \\\n",
    "    fortyfive_to_fiftynine + sixty_and_above +\\\n",
    "    freq_strength + freq_water + freq_team + freq_backcountry + freq_winter + freq_racquet + freq_endurance +\\\n",
    "    message:gender\",\n",
    "    family=Binomial(link=logit()),\n",
    "    freq_weights=np.asarray(pent_std.query(\"training == 1\")[\"cweight\"]),\n",
    "    data=pent_std.query(\"training == 1\"),\n",
    ").fit()\n",
    "# (rsm.or_ci(lr))"
   ]
  },
  {
   "cell_type": "code",
   "execution_count": 22,
   "metadata": {
    "jupyter": {
     "source_hidden": true
    }
   },
   "outputs": [],
   "source": [
    "# # ONLY RUN IF NEEDED\n",
    "# base_df = pent_std\n",
    "\n",
    "# base_df[\"p_strength\"] = lr.predict(base_df.assign(message=\"strength\"))\n",
    "# base_df[\"p_water\"] = lr.predict(base_df.assign(message=\"water\"))\n",
    "# base_df[\"p_team\"] = lr.predict(base_df.assign(message=\"team\"))\n",
    "# base_df[\"p_backcountry\"] = lr.predict(base_df.assign(message=\"backcountry\"))\n",
    "# base_df[\"p_winter\"] = lr.predict(base_df.assign(message=\"winter\"))\n",
    "# base_df[\"p_racquet\"] = lr.predict(base_df.assign(message=\"racquet\"))\n",
    "# base_df[\"p_endurance\"] = lr.predict(base_df.assign(message=\"endurance\"))"
   ]
  },
  {
   "cell_type": "code",
   "execution_count": 23,
   "metadata": {
    "jupyter": {
     "source_hidden": true
    }
   },
   "outputs": [],
   "source": [
    "# # ONLY RUN IF NEEDED\n",
    "# base_df[\"to_offer\"] = (\n",
    "#     base_df[[\"p_strength\", \"p_water\", \"p_team\", 'p_backcountry', 'p_winter', 'p_racquet', 'p_endurance']]\n",
    "#     .idxmax(axis=1)\n",
    "#     .str.replace(\"p_strength\", \"strength\")\n",
    "#     .replace(\"p_water\", \"water\")\n",
    "#     .replace(\"p_team\", \"team\")\n",
    "#     .replace(\"p_backcountry\", \"backcountry\")\n",
    "#     .replace(\"p_winter\", \"winter\")\n",
    "#     .replace(\"p_racquet\", \"racquet\")\n",
    "#     .replace(\"p_endurance\", \"endurance\")\n",
    "# )"
   ]
  },
  {
   "cell_type": "code",
   "execution_count": 24,
   "metadata": {},
   "outputs": [],
   "source": [
    "# customized model-- which can be improved down the lane\n",
    "lr_2 = smf.glm(\n",
    "    formula=\"buyer_yes ~ message + education + children + gender + age+\\\n",
    "    freq_strength + freq_water + freq_team + freq_backcountry + freq_winter + freq_racquet + freq_endurance +\\\n",
    "    message:gender + message:income + message:education + message:children + message:age+\\\n",
    "    message:freq_strength + message:freq_water + message:freq_team + message:freq_backcountry + message:freq_winter +\\\n",
    "    message:freq_racquet + message:freq_endurance\",\n",
    "    family=Binomial(link=logit()),\n",
    "    data=pent_std.query(\"training == 1\"),\n",
    "    freq_weights=np.asarray(pent_std.query(\"training == 1\")[\"cweight\"]),\n",
    ").fit(cov_type=\"HC1\")\n",
    "# (rsm.or_ci(lr))"
   ]
  },
  {
   "cell_type": "code",
   "execution_count": 25,
   "metadata": {},
   "outputs": [],
   "source": [
    "# #To check that everthing is significant\n",
    "# lr_2.wald_test_terms().table.round(3)"
   ]
  },
  {
   "cell_type": "code",
   "execution_count": 26,
   "metadata": {},
   "outputs": [],
   "source": [
    "# run predictions for each customer given they are targeted with each of the 7 messages\n",
    "pent_std[\"p_strength_i\"] = lr_2.predict(pent_std.assign(message=\"strength\"))\n",
    "pent_std[\"p_water_i\"] = lr_2.predict(pent_std.assign(message=\"water\"))\n",
    "pent_std[\"p_team_i\"] = lr_2.predict(pent_std.assign(message=\"team\"))\n",
    "pent_std[\"p_backcountry_i\"] = lr_2.predict(pent_std.assign(message=\"backcountry\"))\n",
    "pent_std[\"p_winter_i\"] = lr_2.predict(pent_std.assign(message=\"winter\"))\n",
    "pent_std[\"p_racquet_i\"] = lr_2.predict(pent_std.assign(message=\"racquet\"))\n",
    "pent_std[\"p_endurance_i\"] = lr_2.predict(pent_std.assign(message=\"endurance\"))"
   ]
  },
  {
   "cell_type": "code",
   "execution_count": 27,
   "metadata": {},
   "outputs": [],
   "source": [
    "preds = ['p_strength_i', 'p_water_i', 'p_team_i', 'p_backcountry_i', 'p_winter_i', 'p_racquet_i', 'p_endurance_i']"
   ]
  },
  {
   "cell_type": "code",
   "execution_count": 28,
   "metadata": {},
   "outputs": [],
   "source": [
    "y_train = pent_std.query(\"training == 1\")['buyer_yes']\n",
    "y_test = pent_std.query(\"training == 0\")['buyer_yes']\n"
   ]
  },
  {
   "cell_type": "code",
   "execution_count": 29,
   "metadata": {},
   "outputs": [],
   "source": [
    "# get the message that will result in the highest profit for each customer\n",
    "pent_std[\"to_offer_i\"] = (\n",
    "    pent_std[\n",
    "        [\n",
    "            \"p_strength_i\",\n",
    "            \"p_water_i\",\n",
    "            \"p_team_i\",\n",
    "            \"p_backcountry_i\",\n",
    "            \"p_winter_i\",\n",
    "            \"p_racquet_i\",\n",
    "            \"p_endurance_i\",\n",
    "        ]\n",
    "    ]\n",
    "    .idxmax(axis=1)\n",
    "    .str.replace(\"p_strength_i\", \"strength\")\n",
    "    .replace(\"p_water_i\", \"water\")\n",
    "    .replace(\"p_team_i\", \"team\")\n",
    "    .replace(\"p_backcountry_i\", \"backcountry\")\n",
    "    .replace(\"p_winter_i\", \"winter\")\n",
    "    .replace(\"p_racquet_i\", \"racquet\")\n",
    "    .replace(\"p_endurance_i\", \"endurance\")\n",
    ")"
   ]
  },
  {
   "cell_type": "code",
   "execution_count": 30,
   "metadata": {},
   "outputs": [],
   "source": [
    "# using the predctions for each of the messages, get the prediction of the value\n",
    "pent_std[\"p_target_i\"] = pent_std[\n",
    "    [\n",
    "        \"p_strength_i\",\n",
    "        \"p_water_i\",\n",
    "        \"p_team_i\",\n",
    "        \"p_backcountry_i\",\n",
    "        \"p_winter_i\",\n",
    "        \"p_racquet_i\",\n",
    "        \"p_endurance_i\",\n",
    "    ]\n",
    "].max(axis=1)"
   ]
  },
  {
   "cell_type": "code",
   "execution_count": 31,
   "metadata": {},
   "outputs": [
    {
     "name": "stdout",
     "output_type": "stream",
     "text": [
      "AUC training data for intial model: 88.16%\n",
      "AUC testing data for intial model: 88.17%\n",
      "\n"
     ]
    }
   ],
   "source": [
    "pred_2_tr = pent_std.query(\"training == 1\")['p_target_i']\n",
    "fpr, tpr, thresholds = metrics.roc_curve(y_train, pred_2_tr)\n",
    "\n",
    "pred_2_test = pent_std.query(\"training == 0\")['p_target_i']\n",
    "fpr_t, tpr_t, thresholds_t = metrics.roc_curve(y_test, pred_2_test)\n",
    "\n",
    "print(f\"AUC training data for intial model: {(metrics.auc(fpr, tpr) * 100).round(2)}%\")\n",
    "print(f\"AUC testing data for intial model: {(metrics.auc(fpr_t, tpr_t) * 100).round(2)}%\\n\")"
   ]
  },
  {
   "cell_type": "code",
   "execution_count": 32,
   "metadata": {
    "collapsed": true,
    "jupyter": {
     "outputs_hidden": true,
     "source_hidden": true
    }
   },
   "outputs": [
    {
     "data": {
      "image/png": "[encoded data removed]",
      "text/plain": [
       "<Figure size 432x288 with 1 Axes>"
      ]
     },
     "metadata": {
      "needs_background": "light"
     },
     "output_type": "display_data"
    }
   ],
   "source": [
    "\n",
    "# fig1 = rsm.gains_plot(\n",
    "#         {\n",
    "#             \"Training\": pent_std.query(\"training == 1\"),\n",
    "#             \"Test\": pent_std.query(\"training == 0\"),\n",
    "#         },\n",
    "#         rvar=\"buyer_yes\",\n",
    "#         pred='p_target_i',\n",
    "#         lev=1,\n",
    "#         qnt=10,\n",
    "#     )"
   ]
  },
  {
   "cell_type": "code",
   "execution_count": 33,
   "metadata": {
    "jupyter": {
     "source_hidden": true
    }
   },
   "outputs": [],
   "source": [
    "# #to check the number of customers to message per message type\n",
    "# pd.crosstab(index=pent_std[\"to_offer_i\"], columns=\"count\").apply(rsm.format_nr)"
   ]
  },
  {
   "cell_type": "code",
   "execution_count": 34,
   "metadata": {},
   "outputs": [],
   "source": [
    "# for the entire 200K customers, get the percentage of cusomers for whom each message type will lead to the highest probability of purchase\n",
    "full_perc = pent_std[pent_std['representative'] == 0][\n",
    "    [\n",
    "        \"p_strength_i\",\n",
    "        \"p_water_i\",\n",
    "        \"p_team_i\",\n",
    "        \"p_backcountry_i\",\n",
    "        \"p_winter_i\",\n",
    "        \"p_racquet_i\",\n",
    "        \"p_endurance_i\",\n",
    "        \"p_target_i\",\n",
    "    ]\n",
    "].agg(\"mean\").sort_values(ascending=True).apply(rsm.format_nr, perc=True)"
   ]
  },
  {
   "cell_type": "markdown",
   "metadata": {},
   "source": [
    "### Q1: determine the message (i.e., endurance, strength, water, team, backcountry, winter, or racquet) predicted to lead to the highest probability of purchase. Describe your approach."
   ]
  },
  {
   "cell_type": "code",
   "execution_count": 35,
   "metadata": {},
   "outputs": [],
   "source": [
    "# df to deal just with the representative data for questions 1-8\n",
    "reps = pent_std[pent_std[\"representative\"] == 1].reset_index(drop=True)"
   ]
  },
  {
   "cell_type": "code",
   "execution_count": 36,
   "metadata": {},
   "outputs": [],
   "source": [
    "#for each customer, the message that will lead to the highest probability of purchase\n",
    "q1 = reps[[\"custid\", \"to_offer_i\"]]"
   ]
  },
  {
   "cell_type": "markdown",
   "metadata": {},
   "source": [
    "### Q2: For each message, report the percentage of customers for whom that message maximizes their probability of purchase."
   ]
  },
  {
   "cell_type": "code",
   "execution_count": 37,
   "metadata": {},
   "outputs": [],
   "source": [
    "q2_redone = reps['to_offer_i'].value_counts(normalize = True)* 100"
   ]
  },
  {
   "cell_type": "code",
   "execution_count": 38,
   "metadata": {},
   "outputs": [],
   "source": [
    "q2 = pd.DataFrame(q2_redone)\n",
    "q2.columns = ['customers (%)']\n",
    "#q2"
   ]
  },
  {
   "cell_type": "markdown",
   "metadata": {},
   "source": [
    "### Q3: For each customer, determine the message (i.e., endurance, strength, water, team, backcountry, winter, or racquet) predicted to lead to the highest expected profit (COGS is 60%)"
   ]
  },
  {
   "cell_type": "code",
   "execution_count": 40,
   "metadata": {},
   "outputs": [],
   "source": [
    "#use a linear regression model to predict the order size for each of the messages for each customer\n",
    "reg_ep = smf.ols(\n",
    "    formula=\"total_os ~ message:gender + message:income + message:education + message:children + message:age+\\\n",
    "    message:freq_strength + message:freq_water + message:freq_team + message:freq_backcountry + message:freq_winter +\\\n",
    "    message:freq_racquet + message:freq_endurance\",\n",
    "    data=pent_std[(pent_std[\"training\"] == 1) & (pent_std[\"buyer\"] == \"yes\")],\n",
    ").fit()"
   ]
  },
  {
   "cell_type": "code",
   "execution_count": 43,
   "metadata": {},
   "outputs": [],
   "source": [
    "# run prediction for each customer to find the order size for each message type\n",
    "reps[\"p_strength_os\"] = reg_ep.predict(reps.assign(message=\"strength\"))\n",
    "reps[\"p_water_os\"] = reg_ep.predict(reps.assign(message=\"water\"))\n",
    "reps[\"p_team_os\"] = reg_ep.predict(reps.assign(message=\"team\"))\n",
    "reps[\"p_backcountry_os\"] = reg_ep.predict(reps.assign(message=\"backcountry\"))\n",
    "reps[\"p_winter_os\"] = reg_ep.predict(reps.assign(message=\"winter\"))\n",
    "reps[\"p_racquet_os\"] = reg_ep.predict(reps.assign(message=\"racquet\"))\n",
    "reps[\"p_endurance_os\"] = reg_ep.predict(reps.assign(message=\"endurance\"))"
   ]
  },
  {
   "cell_type": "code",
   "execution_count": 50,
   "metadata": {},
   "outputs": [],
   "source": [
    "# for each message, calculate the expected profit (by using the predicted probability of purchase and the predicted order size)\n",
    "reps[\"ep_strength\"] = reps[\"p_strength_os\"] * reps[\"p_strength_i\"] * 0.4\n",
    "reps[\"ep_water\"] = reps[\"p_water_os\"] * reps[\"p_water_i\"] * 0.4\n",
    "reps[\"ep_team\"] = reps[\"p_team_os\"] * reps[\"p_team_i\"] * 0.4\n",
    "reps[\"ep_backcountry\"] = reps[\"p_backcountry_os\"] * reps[\"p_backcountry_i\"] * 0.4\n",
    "reps[\"ep_winter\"] = reps[\"p_winter_os\"] * reps[\"p_winter_i\"] * 0.4\n",
    "reps[\"ep_racquet\"] = reps[\"p_racquet_os\"] * reps[\"p_racquet_i\"] * 0.4\n",
    "reps[\"ep_endurance\"] = reps[\"p_endurance_os\"] * reps[\"p_endurance_i\"] * 0.4"
   ]
  },
  {
   "cell_type": "code",
   "execution_count": 51,
   "metadata": {},
   "outputs": [],
   "source": [
    "# message to offer to maximize expected profit\n",
    "reps[\"to_offer_ep\"] = (\n",
    "    reps[\n",
    "        [\n",
    "            \"ep_strength\",\n",
    "            \"ep_water\",\n",
    "            \"ep_team\",\n",
    "            \"ep_backcountry\",\n",
    "            \"ep_winter\",\n",
    "            \"ep_racquet\",\n",
    "            \"ep_endurance\",\n",
    "        ]\n",
    "    ]\n",
    "    .idxmax(axis=1)\n",
    "    .str.replace(\"ep_strength\", \"strength\")\n",
    "    .replace(\"ep_water\", \"water\")\n",
    "    .replace(\"ep_team\", \"team\")\n",
    "    .replace(\"ep_backcountry\", \"backcountry\")\n",
    "    .replace(\"ep_winter\", \"winter\")\n",
    "    .replace(\"ep_racquet\", \"racquet\")\n",
    "    .replace(\"ep_endurance\", \"endurance\")\n",
    ")"
   ]
  },
  {
   "cell_type": "code",
   "execution_count": 52,
   "metadata": {},
   "outputs": [],
   "source": [
    "# get the targeted expected profit \n",
    "reps[\"ep_target\"] = reps[\n",
    "    [\n",
    "        \"ep_strength\",\n",
    "        \"ep_water\",\n",
    "        \"ep_team\",\n",
    "        \"ep_backcountry\",\n",
    "        \"ep_winter\",\n",
    "        \"ep_racquet\",\n",
    "        \"ep_endurance\",\n",
    "    ]\n",
    "].max(axis=1)"
   ]
  },
  {
   "cell_type": "code",
   "execution_count": 54,
   "metadata": {},
   "outputs": [],
   "source": [
    "q3 = reps[[\"custid\", \"to_offer_ep\"]]  # q3"
   ]
  },
  {
   "cell_type": "markdown",
   "metadata": {},
   "source": [
    "### 4. Report for each message, i.e., endurance, racket, etc., the percentage of customers for whom that message maximizes their expected profit."
   ]
  },
  {
   "cell_type": "code",
   "execution_count": 56,
   "metadata": {},
   "outputs": [],
   "source": [
    "q4 = (reps['to_offer_ep'].value_counts(normalize = True) * 100)\n",
    "q4 = pd.DataFrame(q4)\n",
    "q4.columns = ['customers (%)']"
   ]
  },
  {
   "cell_type": "markdown",
   "metadata": {},
   "source": [
    "### 5. What expected profit can we obtain, on average, per e-mailed customer if we customize the message to each customer?"
   ]
  },
  {
   "cell_type": "code",
   "execution_count": 88,
   "metadata": {},
   "outputs": [],
   "source": [
    "q5 = (\n",
    "    reps[[\"ep_target\"]]\n",
    "    .agg(\"mean\")\n",
    "    .sort_values(ascending=False)\n",
    "    .apply(rsm.format_nr, dec = 3, sym=\"€\")\n",
    ")"
   ]
  },
  {
   "cell_type": "markdown",
   "metadata": {},
   "source": [
    "### 6. What is the expected profit per e-mailed customer if every customer receives the same message? Answer this question for each of the seven possible messages (i.e., endurance, strength, water, team, backcountry, winter, or racquet)."
   ]
  },
  {
   "cell_type": "code",
   "execution_count": 58,
   "metadata": {},
   "outputs": [],
   "source": [
    "q6 = (\n",
    "    reps[\n",
    "        [\n",
    "            \"ep_strength\",\n",
    "            \"ep_water\",\n",
    "            \"ep_team\",\n",
    "            \"ep_backcountry\",\n",
    "            \"ep_winter\",\n",
    "            \"ep_racquet\",\n",
    "            \"ep_endurance\",\n",
    "        ]\n",
    "    ]\n",
    "    .agg(\"mean\")\n",
    "    .sort_values(ascending=False)\n",
    "    .apply(rsm.format_nr, sym=\"€\")\n",
    ")"
   ]
  },
  {
   "cell_type": "code",
   "execution_count": 59,
   "metadata": {},
   "outputs": [],
   "source": [
    "q6 = pd.DataFrame(q6)\n",
    "q6.columns = ['Avg. EP']"
   ]
  },
  {
   "cell_type": "markdown",
   "metadata": {},
   "source": [
    "### 7. What is the expected profit per e-mailed customer if every customer is assigned randomly to one of the seven messages?"
   ]
  },
  {
   "cell_type": "code",
   "execution_count": 61,
   "metadata": {},
   "outputs": [],
   "source": [
    "np.random.seed(1234)\n",
    "categ = ['team', 'racquet', 'backcountry', 'water', 'winter', 'strength', 'endurance']\n",
    "reps['to_offer_rnd'] = np.random.choice(categ, size = reps.shape[0])\n",
    "#reps['offer_rnd'].value_counts()"
   ]
  },
  {
   "cell_type": "code",
   "execution_count": 63,
   "metadata": {},
   "outputs": [],
   "source": [
    "#for each random message assignment, get the probability and assign it to a column\n",
    "def rnd_target_col():\n",
    "    cols = []\n",
    "    for x in range(len(reps)):\n",
    "        col = \"ep_\" + str(reps[\"to_offer_rnd\"][x])\n",
    "        vals = reps[col][x]\n",
    "        cols.append(vals)\n",
    "    return cols\n",
    "\n",
    "\n",
    "reps['rnd_target'] = rnd_target_col()"
   ]
  },
  {
   "cell_type": "code",
   "execution_count": 89,
   "metadata": {},
   "outputs": [],
   "source": [
    "# repeat ep_{message}_rnd [result in 7 cols] -> to_offer_ep_rnd -> ep_target_rnd -> Q5\n",
    "# get the targeted expected profit \n",
    "q7 = (\n",
    "    reps[[\"rnd_target\"]]\n",
    "    .agg(\"mean\")\n",
    "    .sort_values(ascending=False)\n",
    "    .apply(rsm.format_nr, dec = 3, sym=\"€\")\n",
    ")\n"
   ]
  },
  {
   "cell_type": "markdown",
   "metadata": {},
   "source": [
    "### 8. For the typical promotional e-mail blast to 5,000,000 customers, what improvement (in percent and in total Euros) could Pentathlon achieve by customizing the message to each customer rather than assigning customers a message randomly?"
   ]
  },
  {
   "cell_type": "code",
   "execution_count": 100,
   "metadata": {},
   "outputs": [
    {
     "name": "stdout",
     "output_type": "stream",
     "text": [
      "Expected profit improvement from offering customization: €0.095\n"
     ]
    }
   ],
   "source": [
    "# difference between Q7 and Q5 -> scale to 5M\n",
    "q8_profit = round(np.abs(float(q7['rnd_target'].replace('€', '')) - float(q5['ep_target'].replace('€', ''))), 3)\n",
    "#print(f\"Expected profit improvement from offering customization: €{q8_profit.round(3):,}\")"
   ]
  },
  {
   "cell_type": "code",
   "execution_count": 105,
   "metadata": {},
   "outputs": [
    {
     "name": "stdout",
     "output_type": "stream",
     "text": [
      "Expected profit difference (in Euros) from offering customization scaled to 5M customers: €471,249.48\n"
     ]
    }
   ],
   "source": [
    "ep_target = (reps['ep_target'].agg('mean') * 5000000)\n",
    "ep_rnd = (reps['rnd_target'].agg('mean') * 5000000)\n",
    "\n",
    "q8_profit_sc = ep_target - ep_rnd\n",
    "#print(f\"Expected profit difference (in Euros) from offering customization scaled to 5M customers: €{q8_profit_sc.round(3):,}\")"
   ]
  },
  {
   "cell_type": "code",
   "execution_count": 69,
   "metadata": {},
   "outputs": [],
   "source": [
    "q8_perc = (q8_profit/float(q7['rnd_target'].replace('€', '')))*100\n",
    "#print(f\"Expected profit difference (as a percentage) from offering customization scaled to 5M customers: {q8_perc.round(2):,}%\") "
   ]
  },
  {
   "cell_type": "code",
   "execution_count": 111,
   "metadata": {},
   "outputs": [],
   "source": [
    "# # compare initial message column and to_offer_i content?\n",
    "# # groupby message = 7 cols -> compare with to_offer_i counts that match the message/total of groupby * 100\n",
    "# a = reps.groupby([\"message\", \"to_offer_rnd\"])[[\"to_offer_i\"]].agg(\"count\").reset_index()\n",
    "# b = a.groupby(\"message\")[[\"to_offer_i\"]].agg(\"sum\").reset_index()\n",
    "# c = a[a[\"message\"] == a[\"to_offer_rnd\"]].drop(columns=[\"to_offer_rnd\"])\n",
    "# max_prof_rnd = c.merge(b, left_on=\"message\", right_on=\"message\", how=\"inner\")\n",
    "# max_prof_rnd = max_prof_rnd.assign(\n",
    "#     perc_cust_rnd=round(((max_prof_rnd[\"to_offer_i_x\"] / max_prof_rnd[\"to_offer_i_y\"])*100), 2)\n",
    "# )[[\"message\", \"perc_cust_rnd\"]]\n",
    "# q8_perc = max_prof_rnd\n",
    "\n",
    "# q8_perc"
   ]
  },
  {
   "cell_type": "code",
   "execution_count": 72,
   "metadata": {},
   "outputs": [],
   "source": [
    "#comp = q4.merge(q8_perc, on = 'message', how = 'left')\n",
    "#comp"
   ]
  }
 ],
 "metadata": {
  "kernelspec": {
   "display_name": "Python 3",
   "language": "python",
   "name": "python3"
  },
  "language_info": {
   "codemirror_mode": {
    "name": "ipython",
    "version": 3
   },
   "file_extension": ".py",
   "mimetype": "text/x-python",
   "name": "python",
   "nbconvert_exporter": "python",
   "pygments_lexer": "ipython3",
   "version": "3.8.5"
  }
 },
 "nbformat": 4,
 "nbformat_minor": 4
}
