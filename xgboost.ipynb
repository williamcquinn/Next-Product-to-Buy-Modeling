{
 "cells": [
  {
   "cell_type": "markdown",
   "metadata": {},
   "source": [
    "# Pentathlon-III: Next Product to Buy Models\n",
    "\n",
    "* Team-lead GitLab userid:\n",
    "* Group name:\n",
    "* Team member names:"
   ]
  },
  {
   "cell_type": "code",
   "execution_count": 1,
   "metadata": {},
   "outputs": [],
   "source": [
    "import matplotlib as mpl\n",
    "import matplotlib.pyplot as plt\n",
    "import numpy as np\n",
    "import pandas as pd\n",
    "import pyrsm as rsm\n",
    "import statsmodels.formula.api as smf\n",
    "from sklearn import preprocessing\n",
    "from statsmodels.genmod.families import Binomial\n",
    "from statsmodels.genmod.families.links import logit\n",
    "import xgboost as xgb\n",
    "from sklearn import metrics\n",
    "# increase plot resolution\n",
    "# mpl.rcParams[\"figure.dpi\"] = 150"
   ]
  },
  {
   "cell_type": "code",
   "execution_count": 2,
   "metadata": {},
   "outputs": [
    {
     "data": {
      "text/html": [
       "<div>\n",
       "<style scoped>\n",
       "    .dataframe tbody tr th:only-of-type {\n",
       "        vertical-align: middle;\n",
       "    }\n",
       "\n",
       "    .dataframe tbody tr th {\n",
       "        vertical-align: top;\n",
       "    }\n",
       "\n",
       "    .dataframe thead th {\n",
       "        text-align: right;\n",
       "    }\n",
       "</style>\n",
       "<table border=\"1\" class=\"dataframe\">\n",
       "  <thead>\n",
       "    <tr style=\"text-align: right;\">\n",
       "      <th></th>\n",
       "      <th>custid</th>\n",
       "      <th>buyer</th>\n",
       "      <th>total_os</th>\n",
       "      <th>message</th>\n",
       "      <th>age</th>\n",
       "      <th>gender</th>\n",
       "      <th>income</th>\n",
       "      <th>education</th>\n",
       "      <th>children</th>\n",
       "      <th>freq_endurance</th>\n",
       "      <th>...</th>\n",
       "      <th>endurance_os</th>\n",
       "      <th>strength_os</th>\n",
       "      <th>water_os</th>\n",
       "      <th>team_os</th>\n",
       "      <th>backcountry_os</th>\n",
       "      <th>winter_os</th>\n",
       "      <th>racquet_os</th>\n",
       "      <th>training</th>\n",
       "      <th>representative</th>\n",
       "      <th>buyer_yes</th>\n",
       "    </tr>\n",
       "  </thead>\n",
       "  <tbody>\n",
       "    <tr>\n",
       "      <th>0</th>\n",
       "      <td>U45198803</td>\n",
       "      <td>no</td>\n",
       "      <td>0.0</td>\n",
       "      <td>endurance</td>\n",
       "      <td>30 to 44</td>\n",
       "      <td>M</td>\n",
       "      <td>25000</td>\n",
       "      <td>14</td>\n",
       "      <td>1.3</td>\n",
       "      <td>0</td>\n",
       "      <td>...</td>\n",
       "      <td>0.0</td>\n",
       "      <td>0.0</td>\n",
       "      <td>0.0</td>\n",
       "      <td>0.0</td>\n",
       "      <td>0.0</td>\n",
       "      <td>0.0</td>\n",
       "      <td>0.0</td>\n",
       "      <td>-2147483648</td>\n",
       "      <td>1</td>\n",
       "      <td>0</td>\n",
       "    </tr>\n",
       "    <tr>\n",
       "      <th>1</th>\n",
       "      <td>U22197752</td>\n",
       "      <td>no</td>\n",
       "      <td>0.0</td>\n",
       "      <td>backcountry</td>\n",
       "      <td>45 to 59</td>\n",
       "      <td>F</td>\n",
       "      <td>40000</td>\n",
       "      <td>44</td>\n",
       "      <td>0.4</td>\n",
       "      <td>2</td>\n",
       "      <td>...</td>\n",
       "      <td>0.0</td>\n",
       "      <td>0.0</td>\n",
       "      <td>0.0</td>\n",
       "      <td>0.0</td>\n",
       "      <td>0.0</td>\n",
       "      <td>0.0</td>\n",
       "      <td>0.0</td>\n",
       "      <td>-2147483648</td>\n",
       "      <td>1</td>\n",
       "      <td>0</td>\n",
       "    </tr>\n",
       "    <tr>\n",
       "      <th>2</th>\n",
       "      <td>U83874832</td>\n",
       "      <td>no</td>\n",
       "      <td>0.0</td>\n",
       "      <td>backcountry</td>\n",
       "      <td>45 to 59</td>\n",
       "      <td>M</td>\n",
       "      <td>50000</td>\n",
       "      <td>24</td>\n",
       "      <td>0.8</td>\n",
       "      <td>0</td>\n",
       "      <td>...</td>\n",
       "      <td>0.0</td>\n",
       "      <td>0.0</td>\n",
       "      <td>0.0</td>\n",
       "      <td>0.0</td>\n",
       "      <td>0.0</td>\n",
       "      <td>0.0</td>\n",
       "      <td>0.0</td>\n",
       "      <td>1</td>\n",
       "      <td>0</td>\n",
       "      <td>0</td>\n",
       "    </tr>\n",
       "    <tr>\n",
       "      <th>3</th>\n",
       "      <td>U19423462</td>\n",
       "      <td>no</td>\n",
       "      <td>0.0</td>\n",
       "      <td>winter</td>\n",
       "      <td>45 to 59</td>\n",
       "      <td>F</td>\n",
       "      <td>50000</td>\n",
       "      <td>26</td>\n",
       "      <td>1.1</td>\n",
       "      <td>1</td>\n",
       "      <td>...</td>\n",
       "      <td>0.0</td>\n",
       "      <td>0.0</td>\n",
       "      <td>0.0</td>\n",
       "      <td>0.0</td>\n",
       "      <td>0.0</td>\n",
       "      <td>0.0</td>\n",
       "      <td>0.0</td>\n",
       "      <td>-2147483648</td>\n",
       "      <td>1</td>\n",
       "      <td>0</td>\n",
       "    </tr>\n",
       "    <tr>\n",
       "      <th>4</th>\n",
       "      <td>U23888305</td>\n",
       "      <td>no</td>\n",
       "      <td>0.0</td>\n",
       "      <td>winter</td>\n",
       "      <td>30 to 44</td>\n",
       "      <td>M</td>\n",
       "      <td>40000</td>\n",
       "      <td>22</td>\n",
       "      <td>1.0</td>\n",
       "      <td>1</td>\n",
       "      <td>...</td>\n",
       "      <td>0.0</td>\n",
       "      <td>0.0</td>\n",
       "      <td>0.0</td>\n",
       "      <td>0.0</td>\n",
       "      <td>0.0</td>\n",
       "      <td>0.0</td>\n",
       "      <td>0.0</td>\n",
       "      <td>-2147483648</td>\n",
       "      <td>1</td>\n",
       "      <td>0</td>\n",
       "    </tr>\n",
       "  </tbody>\n",
       "</table>\n",
       "<p>5 rows × 26 columns</p>\n",
       "</div>"
      ],
      "text/plain": [
       "      custid buyer  total_os      message       age gender  income  education  \\\n",
       "0  U45198803    no       0.0    endurance  30 to 44      M   25000         14   \n",
       "1  U22197752    no       0.0  backcountry  45 to 59      F   40000         44   \n",
       "2  U83874832    no       0.0  backcountry  45 to 59      M   50000         24   \n",
       "3  U19423462    no       0.0       winter  45 to 59      F   50000         26   \n",
       "4  U23888305    no       0.0       winter  30 to 44      M   40000         22   \n",
       "\n",
       "   children  freq_endurance  ...  endurance_os  strength_os  water_os  \\\n",
       "0       1.3               0  ...           0.0          0.0       0.0   \n",
       "1       0.4               2  ...           0.0          0.0       0.0   \n",
       "2       0.8               0  ...           0.0          0.0       0.0   \n",
       "3       1.1               1  ...           0.0          0.0       0.0   \n",
       "4       1.0               1  ...           0.0          0.0       0.0   \n",
       "\n",
       "   team_os  backcountry_os  winter_os  racquet_os    training  representative  \\\n",
       "0      0.0             0.0        0.0         0.0 -2147483648               1   \n",
       "1      0.0             0.0        0.0         0.0 -2147483648               1   \n",
       "2      0.0             0.0        0.0         0.0           1               0   \n",
       "3      0.0             0.0        0.0         0.0 -2147483648               1   \n",
       "4      0.0             0.0        0.0         0.0 -2147483648               1   \n",
       "\n",
       "   buyer_yes  \n",
       "0          0  \n",
       "1          0  \n",
       "2          0  \n",
       "3          0  \n",
       "4          0  \n",
       "\n",
       "[5 rows x 26 columns]"
      ]
     },
     "execution_count": 2,
     "metadata": {},
     "output_type": "execute_result"
    }
   ],
   "source": [
    "## loading the data - this dataset must NOT be changed\n",
    "pentathlon_nptb = pd.read_pickle(\"data/pentathlon_nptb.pkl\")\n",
    "pentathlon_nptb[\"buyer_yes\"] = (pentathlon_nptb[\"buyer\"] == \"yes\").astype(int)\n",
    "#pentathlon_nptb.head()"
   ]
  },
  {
   "cell_type": "code",
   "execution_count": 3,
   "metadata": {},
   "outputs": [],
   "source": [
    "pent = pentathlon_nptb"
   ]
  },
  {
   "cell_type": "code",
   "execution_count": 4,
   "metadata": {},
   "outputs": [],
   "source": [
    "## Question answers"
   ]
  },
  {
   "cell_type": "code",
   "execution_count": 5,
   "metadata": {},
   "outputs": [],
   "source": [
    "# pentathlon_nptb['gender'].get_dummies()\n",
    "pent[\"gender\"] = pd.get_dummies(pent[\"gender\"])\n",
    "pent[\n",
    "    [\"under_thirty\", \"thirty_to_fortyfour\", \"fortyfive_to_fiftynine\", \"sixty_and_above\"]\n",
    "] = pd.get_dummies(pent[\"age\"])\n",
    "pent[[    \"message_endurance\",\n",
    "    \"message_strength\",\n",
    "    \"message_water\",\n",
    "    \"message_team\",\n",
    "    \"message_backcountry\",\n",
    "    \"message_winter\",\n",
    "    \"message_racquet\"]] = pd.get_dummies(pent[\"message\"])"
   ]
  },
  {
   "cell_type": "code",
   "execution_count": 6,
   "metadata": {},
   "outputs": [],
   "source": [
    "train = pent[pent['training'] == 1]\n",
    "test = pent[pent['training'] == 0]\n",
    "rep = pent[pent['representative'] == 1]"
   ]
  },
  {
   "cell_type": "markdown",
   "metadata": {},
   "source": [
    "# XGBoost"
   ]
  },
  {
   "cell_type": "code",
   "execution_count": 7,
   "metadata": {},
   "outputs": [],
   "source": [
    "rvar = \"buyer_yes\"\n",
    "evar = [\n",
    "    \"income\",\n",
    "    \"education\",\n",
    "    \"children\",\n",
    "    \"gender\",\n",
    "    \"under_thirty\",\n",
    "    \"thirty_to_fortyfour\",\n",
    "    \"fortyfive_to_fiftynine\",\n",
    "    \"sixty_and_above\",\n",
    "    \"freq_endurance\",\n",
    "    \"freq_strength\",\n",
    "    \"freq_water\",\n",
    "    \"freq_team\",\n",
    "    \"freq_backcountry\",\n",
    "    \"freq_winter\",\n",
    "    \"freq_racquet\",\n",
    "    \"message_endurance\",\n",
    "    \"message_strength\",\n",
    "    \"message_water\",\n",
    "    \"message_team\",\n",
    "    \"message_backcountry\",\n",
    "    \"message_winter\",\n",
    "    \"message_racquet\",\n",
    "]\n",
    "idvar = \"custid\"\n",
    "lev = 1"
   ]
  },
  {
   "cell_type": "code",
   "execution_count": 8,
   "metadata": {},
   "outputs": [],
   "source": [
    "eval_dat = pd.concat([train, test, rep], axis = 0)\n",
    "eval_dat = eval_dat[[idvar, rvar, \"training\", \"representative\"]]\n",
    "X_train = train[evar]\n",
    "y_train = train[rvar]\n",
    "X_test = test[evar]\n",
    "y_test = test[rvar]\n",
    "X_rep = rep[evar]\n",
    "y_rep = rep[rvar]"
   ]
  },
  {
   "cell_type": "code",
   "execution_count": 9,
   "metadata": {},
   "outputs": [],
   "source": [
    "model = xgb.XGBClassifier(\n",
    "    min_child_weight=5,\n",
    "    colsample_bylevel=1,\n",
    "    max_delta_step=1,\n",
    "    scale_pos_weight=1,\n",
    "    alpha=1,\n",
    "    reg_lambda=1,\n",
    "    learning_rate=0.01,\n",
    "    subsample=.1,\n",
    "    colsample_bytree=1,\n",
    "    gamma=1,\n",
    "    max_depth=15,\n",
    "    n_estimators=1000,\n",
    "    objective=\"binary:logistic\",\n",
    "    use_label_encoder=False,\n",
    "    eval_metric=\"auc\",\n",
    "    random_state=1234,\n",
    ").fit(X_train, y_train.values, verbose=True)"
   ]
  },
  {
   "cell_type": "code",
   "execution_count": 10,
   "metadata": {},
   "outputs": [
    {
     "name": "stdout",
     "output_type": "stream",
     "text": [
      "AUC training data for intial model: 0.9076593391836734\n",
      "AUC testing data for intial model: 0.8886451555555556\n",
      "\n"
     ]
    }
   ],
   "source": [
    "pred_2_tr = model.predict_proba(X_train)\n",
    "fpr, tpr, thresholds = metrics.roc_curve(y_train, pred_2_tr[:, 1])\n",
    "\n",
    "pred_2_test = model.predict_proba(X_test)\n",
    "fpr_t, tpr_t, thresholds_t = metrics.roc_curve(y_test, pred_2_test[:, 1])\n",
    "\n",
    "print(f\"AUC training data for the XGBoost model: {(metrics.auc(fpr, tpr) * 100).round(2)}%\")\n",
    "print(f\"AUC testing data for the XGBoost model: {(metrics.auc(fpr_t, tpr_t) * 100).round(2)}%\\n\")"
   ]
  },
  {
   "cell_type": "code",
   "execution_count": 11,
   "metadata": {},
   "outputs": [],
   "source": [
    "dfs = [X_train, X_test, X_rep]\n",
    "Xs = pd.concat(dfs).reset_index(drop=True)"
   ]
  },
  {
   "cell_type": "code",
   "execution_count": 12,
   "metadata": {},
   "outputs": [],
   "source": [
    "# Predictions on final model\n",
    "# strength\n",
    "strength_set=Xs.copy()\n",
    "strength_set[\"message_strength\"]=1\n",
    "strength_set[[\"message_endurance\", \"message_water\", \"message_team\",\"message_backcountry\",\"message_winter\",\"message_racquet\"]]=0\n",
    "eval_dat[\"strength_p\"] = 0  \n",
    "eval_dat[\"strength_p\"] = model.predict_proba(strength_set)[:, 1]"
   ]
  },
  {
   "cell_type": "code",
   "execution_count": 13,
   "metadata": {},
   "outputs": [],
   "source": [
    "# Predictions on final model\n",
    "# endurance\n",
    "endurance_set=Xs.copy()\n",
    "endurance_set[\"message_endurance\"]=1\n",
    "strength_set[[\"message_strength\", \"message_water\", \"message_team\",\"message_backcountry\",\"message_winter\",\"message_racquet\"]]=0\n",
    "eval_dat[\"endurance_p\"] = 0  \n",
    "eval_dat[\"endurance_p\"] = model.predict_proba(endurance_set)[:, 1]"
   ]
  },
  {
   "cell_type": "code",
   "execution_count": 14,
   "metadata": {},
   "outputs": [],
   "source": [
    "# Predictions on final model\n",
    "# water\n",
    "water_set=Xs.copy()\n",
    "water_set[\"message_water\"]=1\n",
    "strength_set[[\"message_strength\", \"message_endurance\", \"message_team\",\"message_backcountry\",\"message_winter\",\"message_racquet\"]]=0\n",
    "eval_dat[\"water_p\"] = 0  \n",
    "eval_dat[\"water_p\"] = model.predict_proba(water_set)[:, 1]"
   ]
  },
  {
   "cell_type": "code",
   "execution_count": 15,
   "metadata": {},
   "outputs": [],
   "source": [
    "# Predictions on final model\n",
    "# team\n",
    "team_set=Xs.copy()\n",
    "team_set[\"message_team\"]=1\n",
    "strength_set[[\"message_strength\", \"message_endurance\", \"message_water\",\"message_backcountry\",\"message_winter\",\"message_racquet\"]]=0\n",
    "eval_dat[\"team_p\"] = 0  \n",
    "eval_dat[\"team_p\"] = model.predict_proba(team_set)[:, 1]"
   ]
  },
  {
   "cell_type": "code",
   "execution_count": 16,
   "metadata": {},
   "outputs": [],
   "source": [
    "# Predictions on final model\n",
    "# backcountry\n",
    "backcountry_set=Xs.copy()\n",
    "backcountry_set[\"message_backcountry\"]=1\n",
    "strength_set[[\"message_strength\", \"message_endurance\", \"message_water\",\"message_team\",\"message_winter\",\"message_racquet\"]]=0\n",
    "eval_dat[\"backcountry_p\"] = 0  \n",
    "eval_dat[\"backcountry_p\"] = model.predict_proba(backcountry_set)[:, 1]"
   ]
  },
  {
   "cell_type": "code",
   "execution_count": 17,
   "metadata": {},
   "outputs": [],
   "source": [
    "# Predictions on final model\n",
    "# winter\n",
    "winter_set=Xs.copy()\n",
    "winter_set[\"message_winter\"]=1\n",
    "strength_set[[\"message_strength\", \"message_endurance\", \"message_water\",\"message_team\",\"message_backcountry\",\"message_racquet\"]]=0\n",
    "eval_dat[\"winter_p\"] = 0  \n",
    "eval_dat[\"winter_p\"] = model.predict_proba(winter_set)[:, 1]"
   ]
  },
  {
   "cell_type": "code",
   "execution_count": 18,
   "metadata": {},
   "outputs": [],
   "source": [
    "# Predictions on final model\n",
    "# racquet\n",
    "racquet_set=Xs.copy()\n",
    "racquet_set[\"message_racquet\"]=1\n",
    "strength_set[[\"message_strength\", \"message_endurance\", \"message_water\",\"message_team\",\"message_backcountry\",\"message_winter\"]]=0\n",
    "eval_dat[\"racquet_p\"] = 0  \n",
    "eval_dat[\"racquet_p\"] = model.predict_proba(racquet_set)[:, 1]"
   ]
  },
  {
   "cell_type": "code",
   "execution_count": 19,
   "metadata": {},
   "outputs": [],
   "source": [
    "# get the message that will result in the highest profit for each customer\n",
    "eval_dat[\"to_offer_i\"] = (\n",
    "    eval_dat[\n",
    "        [\n",
    "            \"strength_p\",\n",
    "            \"water_p\",\n",
    "            \"team_p\",\n",
    "            \"backcountry_p\",\n",
    "            \"winter_p\",\n",
    "            \"racquet_p\",\n",
    "            \"endurance_p\",\n",
    "        ]\n",
    "    ]\n",
    "    .idxmax(axis=1)\n",
    "    .str.replace(\"strength_p\", \"strength\")\n",
    "    .replace(\"water_p\", \"water\")\n",
    "    .replace(\"team_p\", \"team\")\n",
    "    .replace(\"backcountry_p\", \"backcountry\")\n",
    "    .replace(\"winter_p\", \"winter\")\n",
    "    .replace(\"racquet_p\", \"racquet\")\n",
    "    .replace(\"endurance_p\", \"endurance\")\n",
    ")"
   ]
  },
  {
   "cell_type": "code",
   "execution_count": 20,
   "metadata": {},
   "outputs": [],
   "source": [
    "# using the predctions for each of the messages, get the prediction of the value\n",
    "eval_dat[\"p_target_i\"] = eval_dat[\n",
    "    [\n",
    "        \"strength_p\",\n",
    "        \"water_p\",\n",
    "        \"team_p\",\n",
    "        \"backcountry_p\",\n",
    "        \"winter_p\",\n",
    "        \"racquet_p\",\n",
    "        \"endurance_p\",\n",
    "    ]\n",
    "].max(axis=1)"
   ]
  },
  {
   "cell_type": "markdown",
   "metadata": {},
   "source": [
    "### Q1: Determine the message (i.e., endurance, strength, water, team, backcountry, winter, or racquet) predicted to lead to the highest probability of purchase. Describe your approach."
   ]
  },
  {
   "cell_type": "code",
   "execution_count": 22,
   "metadata": {},
   "outputs": [],
   "source": [
    "reps = eval_dat[eval_dat[\"representative\"] == 1].reset_index(drop=True)"
   ]
  },
  {
   "cell_type": "code",
   "execution_count": 23,
   "metadata": {},
   "outputs": [
    {
     "data": {
      "text/html": [
       "<div>\n",
       "<style scoped>\n",
       "    .dataframe tbody tr th:only-of-type {\n",
       "        vertical-align: middle;\n",
       "    }\n",
       "\n",
       "    .dataframe tbody tr th {\n",
       "        vertical-align: top;\n",
       "    }\n",
       "\n",
       "    .dataframe thead th {\n",
       "        text-align: right;\n",
       "    }\n",
       "</style>\n",
       "<table border=\"1\" class=\"dataframe\">\n",
       "  <thead>\n",
       "    <tr style=\"text-align: right;\">\n",
       "      <th></th>\n",
       "      <th>custid</th>\n",
       "      <th>to_offer_i</th>\n",
       "    </tr>\n",
       "  </thead>\n",
       "  <tbody>\n",
       "    <tr>\n",
       "      <th>0</th>\n",
       "      <td>U45198803</td>\n",
       "      <td>strength</td>\n",
       "    </tr>\n",
       "    <tr>\n",
       "      <th>1</th>\n",
       "      <td>U22197752</td>\n",
       "      <td>endurance</td>\n",
       "    </tr>\n",
       "    <tr>\n",
       "      <th>2</th>\n",
       "      <td>U19423462</td>\n",
       "      <td>strength</td>\n",
       "    </tr>\n",
       "    <tr>\n",
       "      <th>3</th>\n",
       "      <td>U23888305</td>\n",
       "      <td>strength</td>\n",
       "    </tr>\n",
       "    <tr>\n",
       "      <th>4</th>\n",
       "      <td>U16954857</td>\n",
       "      <td>endurance</td>\n",
       "    </tr>\n",
       "    <tr>\n",
       "      <th>...</th>\n",
       "      <td>...</td>\n",
       "      <td>...</td>\n",
       "    </tr>\n",
       "    <tr>\n",
       "      <th>99995</th>\n",
       "      <td>U12620333</td>\n",
       "      <td>endurance</td>\n",
       "    </tr>\n",
       "    <tr>\n",
       "      <th>99996</th>\n",
       "      <td>U18623424</td>\n",
       "      <td>endurance</td>\n",
       "    </tr>\n",
       "    <tr>\n",
       "      <th>99997</th>\n",
       "      <td>U64468968</td>\n",
       "      <td>team</td>\n",
       "    </tr>\n",
       "    <tr>\n",
       "      <th>99998</th>\n",
       "      <td>U33721691</td>\n",
       "      <td>endurance</td>\n",
       "    </tr>\n",
       "    <tr>\n",
       "      <th>99999</th>\n",
       "      <td>U23361779</td>\n",
       "      <td>endurance</td>\n",
       "    </tr>\n",
       "  </tbody>\n",
       "</table>\n",
       "<p>100000 rows × 2 columns</p>\n",
       "</div>"
      ],
      "text/plain": [
       "          custid to_offer_i\n",
       "0      U45198803   strength\n",
       "1      U22197752  endurance\n",
       "2      U19423462   strength\n",
       "3      U23888305   strength\n",
       "4      U16954857  endurance\n",
       "...          ...        ...\n",
       "99995  U12620333  endurance\n",
       "99996  U18623424  endurance\n",
       "99997  U64468968       team\n",
       "99998  U33721691  endurance\n",
       "99999  U23361779  endurance\n",
       "\n",
       "[100000 rows x 2 columns]"
      ]
     },
     "execution_count": 23,
     "metadata": {},
     "output_type": "execute_result"
    }
   ],
   "source": [
    "#for each customer, the message that will lead to the highest probability of purchase\n",
    "q1_xg = reps[[\"custid\", \"to_offer_i\"]]"
   ]
  },
  {
   "cell_type": "markdown",
   "metadata": {},
   "source": [
    "With the XGBoost model we predicted the probability of purchase for each department type if the promotional message of the particular department is pushed to all the customers. After finding the probabilities for seven departments for each customer, we identified the department that has highest probability for each customers chose the department as target for the particular customer."
   ]
  },
  {
   "cell_type": "markdown",
   "metadata": {},
   "source": [
    "### Q2: For each message, report the percentage of customers for whom that message maximizes their probability of purchase."
   ]
  },
  {
   "cell_type": "code",
   "execution_count": 25,
   "metadata": {},
   "outputs": [
    {
     "data": {
      "text/plain": [
       "endurance      48.763\n",
       "strength       21.756\n",
       "water          11.372\n",
       "racquet         8.512\n",
       "backcountry     5.364\n",
       "team            2.513\n",
       "winter          1.720\n",
       "Name: to_offer_i, dtype: float64"
      ]
     },
     "execution_count": 25,
     "metadata": {},
     "output_type": "execute_result"
    }
   ],
   "source": [
    "# for each of the 7 message types, plus targeting apprach, the percentage of customers for whom that message maximizes their probability of purchase\n",
    "q2_xg = reps['to_offer_i'].value_counts(normalize = True)* 100\n",
    "q2_xg = pd.DataFrame(q2_xg)\n",
    "q2_xg.columns = ['customers (%)']"
   ]
  },
  {
   "cell_type": "markdown",
   "metadata": {},
   "source": [
    "##### The XGBoost model predicted that endurance would be the message that would have the highest chance of maximizing the probability of purchase in the representative data at 48.76%, in second and third, were strength 21.76% and water 11.37%, and last place winter at 1.72%."
   ]
  },
  {
   "cell_type": "markdown",
   "metadata": {},
   "source": [
    "##### At this point, because of the results of the previous two questions, we decided not to continue on with using this model to answer the next questions and focus our efforts on fine-tuning model types that will provide us with better predictions. The XGBoost regression did not give us the predictions we were hoping for, likely because of the type of data at hand."
   ]
  }
 ],
 "metadata": {
  "kernelspec": {
   "display_name": "Python 3",
   "language": "python",
   "name": "python3"
  },
  "language_info": {
   "codemirror_mode": {
    "name": "ipython",
    "version": 3
   },
   "file_extension": ".py",
   "mimetype": "text/x-python",
   "name": "python",
   "nbconvert_exporter": "python",
   "pygments_lexer": "ipython3",
   "version": "3.8.5"
  }
 },
 "nbformat": 4,
 "nbformat_minor": 4
}
