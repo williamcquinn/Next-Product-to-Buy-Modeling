{
 "cells": [
  {
   "cell_type": "markdown",
   "metadata": {},
   "source": [
    "# Pentathlon-III: Next Product to Buy Models\n",
    "\n",
    "* Team-lead GitLab userid: juespino\n",
    "* Group name: Team17\n",
    "* Team member names: Julian Espinoza-Martinez, Praveeen Kumar Basker, Haritha Parupudi & William Quinn"
   ]
  },
  {
   "cell_type": "code",
   "execution_count": 1,
   "metadata": {},
   "outputs": [],
   "source": [
    "import matplotlib as mpl\n",
    "import matplotlib.pyplot as plt\n",
    "import numpy as np\n",
    "import pandas as pd\n",
    "import pyrsm as rsm\n",
    "import statsmodels.formula.api as smf\n",
    "from sklearn import preprocessing\n",
    "from statsmodels.genmod.families import Binomial\n",
    "from statsmodels.genmod.families.links import logit\n",
    "\n",
    "# increase plot resolution\n",
    "# mpl.rcParams[\"figure.dpi\"] = 150"
   ]
  },
  {
   "cell_type": "code",
   "execution_count": 2,
   "metadata": {},
   "outputs": [],
   "source": [
    "## loading the data - this dataset must NOT be changed\n",
    "pentathlon_nptb = pd.read_pickle(\"data/pentathlon_nptb.pkl\")\n",
    "pentathlon_nptb[\"buyer_yes\"] = (pentathlon_nptb[\"buyer\"] == \"yes\").astype(int)\n",
    "#pentathlon_nptb.head()"
   ]
  },
  {
   "cell_type": "code",
   "execution_count": 4,
   "metadata": {},
   "outputs": [
    {
     "name": "stdout",
     "output_type": "stream",
     "text": [
      "AUC training data for intial model: 88.16%\n",
      "AUC testing data for intial model: 88.17%\n",
      "\n"
     ]
    }
   ],
   "source": [
    "# run python code from another notebook\n",
    "%run ./q1_8.ipynb"
   ]
  },
  {
   "cell_type": "markdown",
   "metadata": {},
   "source": [
    "# The Analysis"
   ]
  },
  {
   "cell_type": "markdown",
   "metadata": {},
   "source": [
    "All the estimations were done using the training sample, and performances of the models were assessed using the testing sample. The calculations for the following questions were for each of the 100,000 customers in the representative sample. "
   ]
  },
  {
   "cell_type": "markdown",
   "metadata": {},
   "source": [
    "### Q1: Determine the message predicted to lead to the highest probability of purchase."
   ]
  },
  {
   "cell_type": "markdown",
   "metadata": {},
   "source": [
    "#### Approach\n",
    "\n",
    "To determine the message which will likely lead to the highest probability of purchase, we followed the following pipeline: \n",
    "\n",
    "> 1) Built a logistic regression with interactions, so that it is flexible to allow for customization of messages.    \n",
    "> 2) Predict the probability of purchase for each message for each customer.    \n",
    "> 3) Determine the message with the highest predicted probability of purchase, and store that message *(as offer)* and the value *(as target)*.\n",
    "\n",
    "To account for customization of messages, we recognize that that different offers may work better for different customers. In other words, we want to customize messages because we think that there might be an interaction between (1) who the customer is and (2) how effective the offered message is. Hence, we need to interact `message type` with the variables that describe customer characteristics. \n",
    "\n",
    "This was how we built the logistic regression model, which had an AUC score of `88.17%` and `88.15%` for the testing and training sets respectively. The results of the prediction were 7 probabilities for each customer, 1 for each of the 7 messages. From these probabilities, we were able to get the corresponding message type. The table below has these results for the first 5 customers. "
   ]
  },
  {
   "cell_type": "code",
   "execution_count": 5,
   "metadata": {},
   "outputs": [
    {
     "data": {
      "text/html": [
       "<div>\n",
       "<style scoped>\n",
       "    .dataframe tbody tr th:only-of-type {\n",
       "        vertical-align: middle;\n",
       "    }\n",
       "\n",
       "    .dataframe tbody tr th {\n",
       "        vertical-align: top;\n",
       "    }\n",
       "\n",
       "    .dataframe thead th {\n",
       "        text-align: right;\n",
       "    }\n",
       "</style>\n",
       "<table border=\"1\" class=\"dataframe\">\n",
       "  <thead>\n",
       "    <tr style=\"text-align: right;\">\n",
       "      <th></th>\n",
       "      <th>custid</th>\n",
       "      <th>to_offer_i</th>\n",
       "    </tr>\n",
       "  </thead>\n",
       "  <tbody>\n",
       "    <tr>\n",
       "      <th>0</th>\n",
       "      <td>U45198803</td>\n",
       "      <td>water</td>\n",
       "    </tr>\n",
       "    <tr>\n",
       "      <th>1</th>\n",
       "      <td>U22197752</td>\n",
       "      <td>water</td>\n",
       "    </tr>\n",
       "    <tr>\n",
       "      <th>2</th>\n",
       "      <td>U19423462</td>\n",
       "      <td>endurance</td>\n",
       "    </tr>\n",
       "    <tr>\n",
       "      <th>3</th>\n",
       "      <td>U23888305</td>\n",
       "      <td>strength</td>\n",
       "    </tr>\n",
       "    <tr>\n",
       "      <th>4</th>\n",
       "      <td>U16954857</td>\n",
       "      <td>endurance</td>\n",
       "    </tr>\n",
       "  </tbody>\n",
       "</table>\n",
       "</div>"
      ],
      "text/plain": [
       "      custid to_offer_i\n",
       "0  U45198803      water\n",
       "1  U22197752      water\n",
       "2  U19423462  endurance\n",
       "3  U23888305   strength\n",
       "4  U16954857  endurance"
      ]
     },
     "execution_count": 5,
     "metadata": {},
     "output_type": "execute_result"
    }
   ],
   "source": [
    "q1.head()"
   ]
  },
  {
   "cell_type": "markdown",
   "metadata": {},
   "source": [
    "#### Alternative Models: Neural Networks & XGBoost\n",
    "\n",
    "We attempted to fine tune our model by using neural networks to build an initial model as well."
   ]
  },
  {
   "cell_type": "markdown",
   "metadata": {},
   "source": [
    "#### Neural Network (Sciklearn)"
   ]
  },
  {
   "cell_type": "code",
   "execution_count": 6,
   "metadata": {},
   "outputs": [
    {
     "name": "stdout",
     "output_type": "stream",
     "text": [
      "AUC training data for neural network model: 88.46%\n",
      "AUC testing data for neural network model: 88.45%\n",
      "\n"
     ]
    }
   ],
   "source": [
    "%run ./neural_network.ipynb"
   ]
  },
  {
   "cell_type": "markdown",
   "metadata": {},
   "source": [
    "While the AUC results for the neural network look slightly higher than that for the logistic regression, the model resulted is poor predictions. \n",
    "\n",
    "With the neural network, we predicted that `strength` was the message that would lead us to the highest probability for every customer. We also ran the model on the original 5 million dataset and the model led us to predict similar results. This obviously is unrealistic and we determined that the neural network would not be an accurate model for us to predict which message would lead to the highest probability of purchase. \n",
    "\n",
    "Our approach was that, in order to get reasonable predictions, without them all being equal for each message variable, we would have to set each message dummy variable to 1 and the rest to zero, making 7 predictions in total for each (this has been commented out in the code blocks above). This yielded us poor results, so we made another attempt at making predictions on the representative data, while fitting the model on the training and testing data. This also yielded us similar results with one message type dominating across the board."
   ]
  },
  {
   "cell_type": "code",
   "execution_count": 7,
   "metadata": {},
   "outputs": [
    {
     "data": {
      "text/html": [
       "<div>\n",
       "<style scoped>\n",
       "    .dataframe tbody tr th:only-of-type {\n",
       "        vertical-align: middle;\n",
       "    }\n",
       "\n",
       "    .dataframe tbody tr th {\n",
       "        vertical-align: top;\n",
       "    }\n",
       "\n",
       "    .dataframe thead th {\n",
       "        text-align: right;\n",
       "    }\n",
       "</style>\n",
       "<table border=\"1\" class=\"dataframe\">\n",
       "  <thead>\n",
       "    <tr style=\"text-align: right;\">\n",
       "      <th></th>\n",
       "      <th>customers (%)</th>\n",
       "    </tr>\n",
       "  </thead>\n",
       "  <tbody>\n",
       "    <tr>\n",
       "      <th>strength</th>\n",
       "      <td>100.0</td>\n",
       "    </tr>\n",
       "  </tbody>\n",
       "</table>\n",
       "</div>"
      ],
      "text/plain": [
       "          customers (%)\n",
       "strength          100.0"
      ]
     },
     "execution_count": 7,
     "metadata": {},
     "output_type": "execute_result"
    }
   ],
   "source": [
    "nn_q2"
   ]
  },
  {
   "cell_type": "markdown",
   "metadata": {},
   "source": [
    "This model predicts that `strength` will maximize 100% of our customers probability of purchase for the representative data. Applying this model to the 5 million dataset also yielded us with similar results, with one message dominating the probability of purchase over the rest.\n",
    "\n",
    "At this point, because of these results, we decided not to continue on with using this model and focus our efforts on fine-tuning model types that will provide us with better predictions. The neural network did not give us the predictions we were hoping for, likely because of the type of data at hand."
   ]
  },
  {
   "cell_type": "markdown",
   "metadata": {},
   "source": [
    "#### XGBoost"
   ]
  },
  {
   "cell_type": "code",
   "execution_count": 8,
   "metadata": {},
   "outputs": [
    {
     "name": "stdout",
     "output_type": "stream",
     "text": [
      "AUC training data for the XGBoost model: 90.77%\n",
      "AUC testing data for the XGBoost model: 88.86%\n",
      "\n"
     ]
    }
   ],
   "source": [
    "%run ./xgboost.ipynb"
   ]
  },
  {
   "cell_type": "markdown",
   "metadata": {},
   "source": [
    "The AUC results for the XGBoost model were the highest compared to the other two models, which was a good indication. Next, we predicted the message that would lead to the highest probability of purchase using this model, and got the following results."
   ]
  },
  {
   "cell_type": "code",
   "execution_count": 9,
   "metadata": {},
   "outputs": [
    {
     "data": {
      "text/html": [
       "<div>\n",
       "<style scoped>\n",
       "    .dataframe tbody tr th:only-of-type {\n",
       "        vertical-align: middle;\n",
       "    }\n",
       "\n",
       "    .dataframe tbody tr th {\n",
       "        vertical-align: top;\n",
       "    }\n",
       "\n",
       "    .dataframe thead th {\n",
       "        text-align: right;\n",
       "    }\n",
       "</style>\n",
       "<table border=\"1\" class=\"dataframe\">\n",
       "  <thead>\n",
       "    <tr style=\"text-align: right;\">\n",
       "      <th></th>\n",
       "      <th>customers (%)</th>\n",
       "    </tr>\n",
       "  </thead>\n",
       "  <tbody>\n",
       "    <tr>\n",
       "      <th>endurance</th>\n",
       "      <td>48.763</td>\n",
       "    </tr>\n",
       "    <tr>\n",
       "      <th>strength</th>\n",
       "      <td>21.756</td>\n",
       "    </tr>\n",
       "    <tr>\n",
       "      <th>water</th>\n",
       "      <td>11.372</td>\n",
       "    </tr>\n",
       "    <tr>\n",
       "      <th>racquet</th>\n",
       "      <td>8.512</td>\n",
       "    </tr>\n",
       "    <tr>\n",
       "      <th>backcountry</th>\n",
       "      <td>5.364</td>\n",
       "    </tr>\n",
       "    <tr>\n",
       "      <th>team</th>\n",
       "      <td>2.513</td>\n",
       "    </tr>\n",
       "    <tr>\n",
       "      <th>winter</th>\n",
       "      <td>1.720</td>\n",
       "    </tr>\n",
       "  </tbody>\n",
       "</table>\n",
       "</div>"
      ],
      "text/plain": [
       "             customers (%)\n",
       "endurance           48.763\n",
       "strength            21.756\n",
       "water               11.372\n",
       "racquet              8.512\n",
       "backcountry          5.364\n",
       "team                 2.513\n",
       "winter               1.720"
      ]
     },
     "execution_count": 9,
     "metadata": {},
     "output_type": "execute_result"
    }
   ],
   "source": [
    "q2_xg"
   ]
  },
  {
   "cell_type": "markdown",
   "metadata": {},
   "source": [
    "Compared to the neural network model above, these results looked promising as well. \n",
    "\n",
    "The XGBoost model predicted that for the greatest population, `endurance` would be the message that would maximize the probability of purchase in the representative data, followed by `strength`, `water` and `winter` with the lowest percentage of customers. \n",
    "\n",
    "For the next part, when we began analyzing the expected profits, since case weights could not be accounted for here, we chose to work with the 5 million sample. This process led to results that were fairly close to the logistic regression model built above. Since the flexibility for customization is greater in the logistic regression model, we will move forward for the rest of the analysis with the **logistic regression** model."
   ]
  },
  {
   "cell_type": "markdown",
   "metadata": {},
   "source": [
    "### Q2: For each message, the percentage of customers for whom the message maximizes their *probability of purchase*."
   ]
  },
  {
   "cell_type": "markdown",
   "metadata": {},
   "source": [
    "Using the results of the predicted purchase probabilities above, we looked at the column which had the offers which would lead to the highest purchase probability and found the percentage of customers for whom each of the message types led to the highest such probability. And the results are summarized in the table below."
   ]
  },
  {
   "cell_type": "code",
   "execution_count": 10,
   "metadata": {},
   "outputs": [
    {
     "data": {
      "text/html": [
       "<div>\n",
       "<style scoped>\n",
       "    .dataframe tbody tr th:only-of-type {\n",
       "        vertical-align: middle;\n",
       "    }\n",
       "\n",
       "    .dataframe tbody tr th {\n",
       "        vertical-align: top;\n",
       "    }\n",
       "\n",
       "    .dataframe thead th {\n",
       "        text-align: right;\n",
       "    }\n",
       "</style>\n",
       "<table border=\"1\" class=\"dataframe\">\n",
       "  <thead>\n",
       "    <tr style=\"text-align: right;\">\n",
       "      <th></th>\n",
       "      <th>customers (%)</th>\n",
       "    </tr>\n",
       "  </thead>\n",
       "  <tbody>\n",
       "    <tr>\n",
       "      <th>endurance</th>\n",
       "      <td>40.616</td>\n",
       "    </tr>\n",
       "    <tr>\n",
       "      <th>strength</th>\n",
       "      <td>20.492</td>\n",
       "    </tr>\n",
       "    <tr>\n",
       "      <th>water</th>\n",
       "      <td>18.550</td>\n",
       "    </tr>\n",
       "    <tr>\n",
       "      <th>team</th>\n",
       "      <td>10.945</td>\n",
       "    </tr>\n",
       "    <tr>\n",
       "      <th>backcountry</th>\n",
       "      <td>4.354</td>\n",
       "    </tr>\n",
       "    <tr>\n",
       "      <th>racquet</th>\n",
       "      <td>3.215</td>\n",
       "    </tr>\n",
       "    <tr>\n",
       "      <th>winter</th>\n",
       "      <td>1.828</td>\n",
       "    </tr>\n",
       "  </tbody>\n",
       "</table>\n",
       "</div>"
      ],
      "text/plain": [
       "             customers (%)\n",
       "endurance           40.616\n",
       "strength            20.492\n",
       "water               18.550\n",
       "team                10.945\n",
       "backcountry          4.354\n",
       "racquet              3.215\n",
       "winter               1.828"
      ]
     },
     "execution_count": 10,
     "metadata": {},
     "output_type": "execute_result"
    }
   ],
   "source": [
    "q2"
   ]
  },
  {
   "cell_type": "markdown",
   "metadata": {},
   "source": [
    "### Q3: Determine the message predicted to lead to the highest expected profit (with a COGS of 60%)"
   ]
  },
  {
   "cell_type": "markdown",
   "metadata": {},
   "source": [
    "##### Approach\n",
    "\n",
    "To predict the expected profit, we know that the COGS is 60%, but we need the order size for each customer. To predict the order size, we built a linear regression model which considered all the customers who have bought within the training set and used `total_os` as the response variable. The best model was then used to predict the order size for each of the 7 message types. \n",
    "\n",
    "With these predicted order sizes for each message type, the predicted probability of purchase of each message type per customer, and the COGS, we were able to predict the expected profit for each customer for each of the 7 message types. \n",
    "\n",
    "Using the expected profits for each of the 7 messages, the message with the highest expected profit was set into a new column, and these messages were predicted to lead to the highest expected profit. These results have been summarized for the first 5 customers below. "
   ]
  },
  {
   "cell_type": "code",
   "execution_count": 11,
   "metadata": {},
   "outputs": [
    {
     "data": {
      "text/html": [
       "<div>\n",
       "<style scoped>\n",
       "    .dataframe tbody tr th:only-of-type {\n",
       "        vertical-align: middle;\n",
       "    }\n",
       "\n",
       "    .dataframe tbody tr th {\n",
       "        vertical-align: top;\n",
       "    }\n",
       "\n",
       "    .dataframe thead th {\n",
       "        text-align: right;\n",
       "    }\n",
       "</style>\n",
       "<table border=\"1\" class=\"dataframe\">\n",
       "  <thead>\n",
       "    <tr style=\"text-align: right;\">\n",
       "      <th></th>\n",
       "      <th>custid</th>\n",
       "      <th>to_offer_ep</th>\n",
       "    </tr>\n",
       "  </thead>\n",
       "  <tbody>\n",
       "    <tr>\n",
       "      <th>0</th>\n",
       "      <td>U45198803</td>\n",
       "      <td>water</td>\n",
       "    </tr>\n",
       "    <tr>\n",
       "      <th>1</th>\n",
       "      <td>U22197752</td>\n",
       "      <td>water</td>\n",
       "    </tr>\n",
       "    <tr>\n",
       "      <th>2</th>\n",
       "      <td>U19423462</td>\n",
       "      <td>endurance</td>\n",
       "    </tr>\n",
       "    <tr>\n",
       "      <th>3</th>\n",
       "      <td>U23888305</td>\n",
       "      <td>racquet</td>\n",
       "    </tr>\n",
       "    <tr>\n",
       "      <th>4</th>\n",
       "      <td>U16954857</td>\n",
       "      <td>racquet</td>\n",
       "    </tr>\n",
       "  </tbody>\n",
       "</table>\n",
       "</div>"
      ],
      "text/plain": [
       "      custid to_offer_ep\n",
       "0  U45198803       water\n",
       "1  U22197752       water\n",
       "2  U19423462   endurance\n",
       "3  U23888305     racquet\n",
       "4  U16954857     racquet"
      ]
     },
     "execution_count": 11,
     "metadata": {},
     "output_type": "execute_result"
    }
   ],
   "source": [
    "q3.head()"
   ]
  },
  {
   "cell_type": "markdown",
   "metadata": {},
   "source": [
    "### Q4: For each message, the percentage of customers for whom the message maximizes *expected profit*."
   ]
  },
  {
   "cell_type": "markdown",
   "metadata": {},
   "source": [
    "Using the results of the predicted expected profits above, we looked at the column which had the offers which would lead to the highest expected profits and found the percentage of customers for whom each of the message types led to the highest such profit. And the results are summarized in the table below."
   ]
  },
  {
   "cell_type": "code",
   "execution_count": 12,
   "metadata": {},
   "outputs": [
    {
     "data": {
      "text/html": [
       "<div>\n",
       "<style scoped>\n",
       "    .dataframe tbody tr th:only-of-type {\n",
       "        vertical-align: middle;\n",
       "    }\n",
       "\n",
       "    .dataframe tbody tr th {\n",
       "        vertical-align: top;\n",
       "    }\n",
       "\n",
       "    .dataframe thead th {\n",
       "        text-align: right;\n",
       "    }\n",
       "</style>\n",
       "<table border=\"1\" class=\"dataframe\">\n",
       "  <thead>\n",
       "    <tr style=\"text-align: right;\">\n",
       "      <th></th>\n",
       "      <th>customers (%)</th>\n",
       "    </tr>\n",
       "  </thead>\n",
       "  <tbody>\n",
       "    <tr>\n",
       "      <th>water</th>\n",
       "      <td>23.387</td>\n",
       "    </tr>\n",
       "    <tr>\n",
       "      <th>endurance</th>\n",
       "      <td>18.465</td>\n",
       "    </tr>\n",
       "    <tr>\n",
       "      <th>backcountry</th>\n",
       "      <td>16.020</td>\n",
       "    </tr>\n",
       "    <tr>\n",
       "      <th>racquet</th>\n",
       "      <td>15.122</td>\n",
       "    </tr>\n",
       "    <tr>\n",
       "      <th>winter</th>\n",
       "      <td>11.074</td>\n",
       "    </tr>\n",
       "    <tr>\n",
       "      <th>team</th>\n",
       "      <td>9.460</td>\n",
       "    </tr>\n",
       "    <tr>\n",
       "      <th>strength</th>\n",
       "      <td>6.472</td>\n",
       "    </tr>\n",
       "  </tbody>\n",
       "</table>\n",
       "</div>"
      ],
      "text/plain": [
       "             customers (%)\n",
       "water               23.387\n",
       "endurance           18.465\n",
       "backcountry         16.020\n",
       "racquet             15.122\n",
       "winter              11.074\n",
       "team                 9.460\n",
       "strength             6.472"
      ]
     },
     "execution_count": 12,
     "metadata": {},
     "output_type": "execute_result"
    }
   ],
   "source": [
    "q4"
   ]
  },
  {
   "cell_type": "markdown",
   "metadata": {},
   "source": [
    "### Q5: Expected profit, on average, per e-mailed customer if the messages were customized."
   ]
  },
  {
   "cell_type": "markdown",
   "metadata": {},
   "source": [
    "We have the expected profit per customer by customizing the message that will be sent. Using these profits, the average expected profit on average, per e-mailed customer can be calculated. "
   ]
  },
  {
   "cell_type": "code",
   "execution_count": 13,
   "metadata": {},
   "outputs": [
    {
     "name": "stdout",
     "output_type": "stream",
     "text": [
      "The expected profit, on average, per e-mailed customer if the messages were customized: €0.338\n"
     ]
    }
   ],
   "source": [
    "print(f\"The expected profit, on average, per e-mailed customer if the messages were customized: {q5[0]}\")"
   ]
  },
  {
   "cell_type": "markdown",
   "metadata": {},
   "source": [
    "### Q6: Expected profit, on average, per e-mailed customer if the customers received the same message [for each of the 7 messages]"
   ]
  },
  {
   "cell_type": "markdown",
   "metadata": {},
   "source": [
    "If all the customers were offered the same message, the average expected profit would be the average of the expected profits for each of the respective message types. From Q4, we have this prediction for all the customers. Thus, by taking the average of each of the 7 message types, the average profit can be reported for the 7 message types. The results are summarized in the table below. "
   ]
  },
  {
   "cell_type": "code",
   "execution_count": 14,
   "metadata": {},
   "outputs": [
    {
     "data": {
      "text/html": [
       "<div>\n",
       "<style scoped>\n",
       "    .dataframe tbody tr th:only-of-type {\n",
       "        vertical-align: middle;\n",
       "    }\n",
       "\n",
       "    .dataframe tbody tr th {\n",
       "        vertical-align: top;\n",
       "    }\n",
       "\n",
       "    .dataframe thead th {\n",
       "        text-align: right;\n",
       "    }\n",
       "</style>\n",
       "<table border=\"1\" class=\"dataframe\">\n",
       "  <thead>\n",
       "    <tr style=\"text-align: right;\">\n",
       "      <th></th>\n",
       "      <th>Avg. EP</th>\n",
       "    </tr>\n",
       "  </thead>\n",
       "  <tbody>\n",
       "    <tr>\n",
       "      <th>ep_endurance</th>\n",
       "      <td>€0.27</td>\n",
       "    </tr>\n",
       "    <tr>\n",
       "      <th>ep_strength</th>\n",
       "      <td>€0.26</td>\n",
       "    </tr>\n",
       "    <tr>\n",
       "      <th>ep_winter</th>\n",
       "      <td>€0.25</td>\n",
       "    </tr>\n",
       "    <tr>\n",
       "      <th>ep_water</th>\n",
       "      <td>€0.24</td>\n",
       "    </tr>\n",
       "    <tr>\n",
       "      <th>ep_backcountry</th>\n",
       "      <td>€0.23</td>\n",
       "    </tr>\n",
       "    <tr>\n",
       "      <th>ep_racquet</th>\n",
       "      <td>€0.23</td>\n",
       "    </tr>\n",
       "    <tr>\n",
       "      <th>ep_team</th>\n",
       "      <td>€0.22</td>\n",
       "    </tr>\n",
       "  </tbody>\n",
       "</table>\n",
       "</div>"
      ],
      "text/plain": [
       "               Avg. EP\n",
       "ep_endurance     €0.27\n",
       "ep_strength      €0.26\n",
       "ep_winter        €0.25\n",
       "ep_water         €0.24\n",
       "ep_backcountry   €0.23\n",
       "ep_racquet       €0.23\n",
       "ep_team          €0.22"
      ]
     },
     "execution_count": 14,
     "metadata": {},
     "output_type": "execute_result"
    }
   ],
   "source": [
    "q6"
   ]
  },
  {
   "cell_type": "markdown",
   "metadata": {},
   "source": [
    "### Q7: Expected profit, on average, per e-mailed customer if every customer is assigned randomly to one of the 7 messages."
   ]
  },
  {
   "cell_type": "markdown",
   "metadata": {},
   "source": [
    "##### Approach\n",
    "\n",
    "Until this point, we looked at customizing the message sent to customers, first using maximized probability of purchase and then using maximized expected profit as the metric. Now, we are attempting to find the average expected profit if the messages are offered at random to all the customers. To determine this, we took a new random assignment approach, by assigning each customer a new `to_offer_rnd` message type. Taking this final offered message, and the respective expected profit for the specified message type, we created a new `target_rnd` column with the expected profits by offering these randomized messages. Using this, the average expected profit was calculated, similar to Q5 above."
   ]
  },
  {
   "cell_type": "code",
   "execution_count": 15,
   "metadata": {},
   "outputs": [
    {
     "name": "stdout",
     "output_type": "stream",
     "text": [
      "The expected profit, on average, per e-mailed customer if the messages were randomized: €0.243\n"
     ]
    }
   ],
   "source": [
    "print(f\"The expected profit, on average, per e-mailed customer if the messages were randomized: {q7[0]}\")"
   ]
  },
  {
   "cell_type": "markdown",
   "metadata": {},
   "source": [
    "### Q8: For the 5 million customer e-mail blast, the improvement, *in percent and total Euros* Pentathalon could achieve by customizing messages."
   ]
  },
  {
   "cell_type": "markdown",
   "metadata": {},
   "source": [
    "Since the e-mail blast campaign was for 5 million customers, the calculations above, as done on the upsampled data, can be scaled to the entire dataset. The summarized results are printed below."
   ]
  },
  {
   "cell_type": "code",
   "execution_count": 16,
   "metadata": {},
   "outputs": [
    {
     "name": "stdout",
     "output_type": "stream",
     "text": [
      "Expected profit from offering customization: €0.338.\n",
      "Expected profit from randomized messaging: €0.243.\n",
      "Expected profit improvement from offering customization: €0.095.\n",
      "\n",
      "Scaled expected profit from offering customization: €1,688,500.942.\n",
      "Scaled expected profit from randomized messaging: €1,217,251.462.\n",
      "Scaled expected profit improvement from offering customization: €471,249.48.\n",
      "\n",
      "Scaled expected profit difference (as a percentage) from offering customization: 39.095%.\n"
     ]
    }
   ],
   "source": [
    "print(f\"Expected profit from offering customization: {q5[0]}.\")\n",
    "print(f\"Expected profit from randomized messaging: {q7[0]}.\")\n",
    "print(f\"Expected profit improvement from offering customization: €{q8_profit.round(3):,}.\\n\")\n",
    "\n",
    "print(f\"Scaled expected profit from offering customization: €{ep_target.round(3):,}.\")\n",
    "print(f\"Scaled expected profit from randomized messaging: €{ep_rnd.round(3):,}.\")\n",
    "print(f\"Scaled expected profit improvement from offering customization: €{q8_profit_sc.round(2):,}.\\n\")\n",
    "\n",
    "print(f\"Scaled expected profit difference (as a percentage) from offering customization: {q8_perc.round(3):,}%.\") "
   ]
  },
  {
   "cell_type": "markdown",
   "metadata": {},
   "source": [
    "# A New Policy Proposal"
   ]
  },
  {
   "cell_type": "markdown",
   "metadata": {},
   "source": [
    "#### Strengths we see in this new policy:\n",
    "\n",
    "> The policy will work well in targeting customers who frequent Pentathlon to buy sporting equipment from one or two departments, such as youth sports coaches and multi-sport high school athletes.\n",
    "\n",
    "#### Weaknesses we see in this new policy:\n",
    "\n",
    "> This type of targeted mailing seems will be ineffective in allocating promotional e-mails to the varying departments and will likely result in customer fatigue for those receiving similar e-mails over the course of three weeks.\n",
    "\n",
    "> In addition to this, if we think about the people who purchase items from a sporting goods store, it is more likely that they will make one big purchase item from a department and not have to return to that section for some time. For example, someone might purchase a surfboard from the water sports department, or a new baseball bat and glove from the team section for the new season. It is unlikely that these consumers, which we feel would be the majority, would return to the same department week after week. The use of targeting messages would be redundant if they have already been to the department for what they needed.\n",
    "\n",
    "#### Our suggestions for improvement:\n",
    "\n",
    "> We would recommend that instead of doing the analysis monthly, it should be done bi-weekly (every other week of the month) so that the customer will not be irritated in receiving targeted messages from departments they had interacted with a month ago.    \n",
    "\n",
    "> Our second recommendation is that if a customer has already interacted with and purchased a product in the department of the message that would maximize their probability of purchase, we would suggest that the next message be substituted with the second or third highest for the next round that month. In doing so, the customer will not be sent a message from a department that they had just purchased an item from. Effectively, in a given month, once a customer has actually interacted with a message type, they will not see another message from this department. Instead, we suggest sending them a message from a department that they have not yet purchased an item from but are likely to. We see this as a way for Pentathlon to build the customers interest in a different department and encourage them to return.\n"
   ]
  }
 ],
 "metadata": {
  "kernelspec": {
   "display_name": "Python 3",
   "language": "python",
   "name": "python3"
  },
  "language_info": {
   "codemirror_mode": {
    "name": "ipython",
    "version": 3
   },
   "file_extension": ".py",
   "mimetype": "text/x-python",
   "name": "python",
   "nbconvert_exporter": "python",
   "pygments_lexer": "ipython3",
   "version": "3.8.5"
  }
 },
 "nbformat": 4,
 "nbformat_minor": 4
}
